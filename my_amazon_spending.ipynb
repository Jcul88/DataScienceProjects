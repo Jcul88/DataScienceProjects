{
 "cells": [
  {
   "cell_type": "code",
   "execution_count": 75,
   "metadata": {},
   "outputs": [],
   "source": [
    "import pandas as pd\n",
    "amazon = pd.read_csv('amazon-orders.csv')"
   ]
  },
  {
   "cell_type": "code",
   "execution_count": 76,
   "metadata": {},
   "outputs": [
    {
     "data": {
      "text/html": [
       "<div>\n",
       "<style scoped>\n",
       "    .dataframe tbody tr th:only-of-type {\n",
       "        vertical-align: middle;\n",
       "    }\n",
       "\n",
       "    .dataframe tbody tr th {\n",
       "        vertical-align: top;\n",
       "    }\n",
       "\n",
       "    .dataframe thead th {\n",
       "        text-align: right;\n",
       "    }\n",
       "</style>\n",
       "<table border=\"1\" class=\"dataframe\">\n",
       "  <thead>\n",
       "    <tr style=\"text-align: right;\">\n",
       "      <th></th>\n",
       "      <th>Order Date</th>\n",
       "      <th>Order ID</th>\n",
       "      <th>Payment Instrument Type</th>\n",
       "      <th>Website</th>\n",
       "      <th>Purchase Order Number</th>\n",
       "      <th>Ordering Customer Email</th>\n",
       "      <th>Shipment Date</th>\n",
       "      <th>Shipping Address Name</th>\n",
       "      <th>Shipping Address Street 1</th>\n",
       "      <th>Shipping Address Street 2</th>\n",
       "      <th>...</th>\n",
       "      <th>Order Status</th>\n",
       "      <th>Carrier Name &amp; Tracking Number</th>\n",
       "      <th>Subtotal</th>\n",
       "      <th>Shipping Charge</th>\n",
       "      <th>Tax Before Promotions</th>\n",
       "      <th>Total Promotions</th>\n",
       "      <th>Tax Charged</th>\n",
       "      <th>Total Charged</th>\n",
       "      <th>Buyer Name</th>\n",
       "      <th>Group Name</th>\n",
       "    </tr>\n",
       "  </thead>\n",
       "  <tbody>\n",
       "    <tr>\n",
       "      <th>0</th>\n",
       "      <td>04/01/19</td>\n",
       "      <td>112-0000000-0000001</td>\n",
       "      <td>Visa - 0001</td>\n",
       "      <td>Amazon.com</td>\n",
       "      <td>NaN</td>\n",
       "      <td>your_email@gmail.com</td>\n",
       "      <td>04/01/19</td>\n",
       "      <td>Your Name</td>\n",
       "      <td>1 YOUR STREET</td>\n",
       "      <td>NaN</td>\n",
       "      <td>...</td>\n",
       "      <td>Shipped</td>\n",
       "      <td>USPS(0001)</td>\n",
       "      <td>$35.00</td>\n",
       "      <td>$0.00</td>\n",
       "      <td>$1.93</td>\n",
       "      <td>$0.00</td>\n",
       "      <td>$1.93</td>\n",
       "      <td>$36.93</td>\n",
       "      <td>Your Name</td>\n",
       "      <td>NaN</td>\n",
       "    </tr>\n",
       "    <tr>\n",
       "      <th>1</th>\n",
       "      <td>04/01/19</td>\n",
       "      <td>112-0000000-0000002</td>\n",
       "      <td>Visa - 0001</td>\n",
       "      <td>Amazon.com</td>\n",
       "      <td>NaN</td>\n",
       "      <td>your_email@gmail.com</td>\n",
       "      <td>04/01/19</td>\n",
       "      <td>Your Name</td>\n",
       "      <td>1 YOUR STREET</td>\n",
       "      <td>NaN</td>\n",
       "      <td>...</td>\n",
       "      <td>Shipped</td>\n",
       "      <td>USPS(0001)</td>\n",
       "      <td>$16.99</td>\n",
       "      <td>$0.00</td>\n",
       "      <td>$0.00</td>\n",
       "      <td>$0.00</td>\n",
       "      <td>$0.00</td>\n",
       "      <td>$16.99</td>\n",
       "      <td>Your Name</td>\n",
       "      <td>NaN</td>\n",
       "    </tr>\n",
       "    <tr>\n",
       "      <th>2</th>\n",
       "      <td>04/01/19</td>\n",
       "      <td>112-0000000-0000003</td>\n",
       "      <td>Visa - 0001</td>\n",
       "      <td>Amazon.com</td>\n",
       "      <td>NaN</td>\n",
       "      <td>your_email@gmail.com</td>\n",
       "      <td>04/01/19</td>\n",
       "      <td>Your Name</td>\n",
       "      <td>1 YOUR STREET</td>\n",
       "      <td>NaN</td>\n",
       "      <td>...</td>\n",
       "      <td>Shipped</td>\n",
       "      <td>USPS(0001)</td>\n",
       "      <td>$9.99</td>\n",
       "      <td>$0.00</td>\n",
       "      <td>$0.00</td>\n",
       "      <td>$0.00</td>\n",
       "      <td>$0.00</td>\n",
       "      <td>$9.99</td>\n",
       "      <td>Your Name</td>\n",
       "      <td>NaN</td>\n",
       "    </tr>\n",
       "    <tr>\n",
       "      <th>3</th>\n",
       "      <td>04/04/19</td>\n",
       "      <td>112-0000000-0000004</td>\n",
       "      <td>Visa - 0001</td>\n",
       "      <td>Amazon.com</td>\n",
       "      <td>NaN</td>\n",
       "      <td>your_email@gmail.com</td>\n",
       "      <td>04/05/19</td>\n",
       "      <td>Your Name</td>\n",
       "      <td>1 YOUR STREET</td>\n",
       "      <td>NaN</td>\n",
       "      <td>...</td>\n",
       "      <td>Shipped</td>\n",
       "      <td>UPS(0002)</td>\n",
       "      <td>$147.98</td>\n",
       "      <td>$0.00</td>\n",
       "      <td>$8.14</td>\n",
       "      <td>$0.00</td>\n",
       "      <td>$8.14</td>\n",
       "      <td>$156.12</td>\n",
       "      <td>Your Name</td>\n",
       "      <td>NaN</td>\n",
       "    </tr>\n",
       "    <tr>\n",
       "      <th>4</th>\n",
       "      <td>04/05/19</td>\n",
       "      <td>112-0000000-0000005</td>\n",
       "      <td>Visa - 0001</td>\n",
       "      <td>Amazon.com</td>\n",
       "      <td>NaN</td>\n",
       "      <td>your_email@gmail.com</td>\n",
       "      <td>04/07/19</td>\n",
       "      <td>Your Name</td>\n",
       "      <td>1 YOUR STREET</td>\n",
       "      <td>NaN</td>\n",
       "      <td>...</td>\n",
       "      <td>Shipped</td>\n",
       "      <td>USPS(0001)</td>\n",
       "      <td>$14.99</td>\n",
       "      <td>$0.00</td>\n",
       "      <td>$0.00</td>\n",
       "      <td>$0.00</td>\n",
       "      <td>$0.00</td>\n",
       "      <td>$14.99</td>\n",
       "      <td>Your Name</td>\n",
       "      <td>NaN</td>\n",
       "    </tr>\n",
       "  </tbody>\n",
       "</table>\n",
       "<p>5 rows × 23 columns</p>\n",
       "</div>"
      ],
      "text/plain": [
       "  Order Date             Order ID Payment Instrument Type     Website  \\\n",
       "0   04/01/19  112-0000000-0000001             Visa - 0001  Amazon.com   \n",
       "1   04/01/19  112-0000000-0000002             Visa - 0001  Amazon.com   \n",
       "2   04/01/19  112-0000000-0000003             Visa - 0001  Amazon.com   \n",
       "3   04/04/19  112-0000000-0000004             Visa - 0001  Amazon.com   \n",
       "4   04/05/19  112-0000000-0000005             Visa - 0001  Amazon.com   \n",
       "\n",
       "   Purchase Order Number Ordering Customer Email Shipment Date  \\\n",
       "0                    NaN    your_email@gmail.com      04/01/19   \n",
       "1                    NaN    your_email@gmail.com      04/01/19   \n",
       "2                    NaN    your_email@gmail.com      04/01/19   \n",
       "3                    NaN    your_email@gmail.com      04/05/19   \n",
       "4                    NaN    your_email@gmail.com      04/07/19   \n",
       "\n",
       "  Shipping Address Name Shipping Address Street 1  Shipping Address Street 2  \\\n",
       "0             Your Name             1 YOUR STREET                        NaN   \n",
       "1             Your Name             1 YOUR STREET                        NaN   \n",
       "2             Your Name             1 YOUR STREET                        NaN   \n",
       "3             Your Name             1 YOUR STREET                        NaN   \n",
       "4             Your Name             1 YOUR STREET                        NaN   \n",
       "\n",
       "   ... Order Status Carrier Name & Tracking Number Subtotal Shipping Charge  \\\n",
       "0  ...      Shipped                     USPS(0001)   $35.00           $0.00   \n",
       "1  ...      Shipped                     USPS(0001)   $16.99           $0.00   \n",
       "2  ...      Shipped                     USPS(0001)    $9.99           $0.00   \n",
       "3  ...      Shipped                      UPS(0002)  $147.98           $0.00   \n",
       "4  ...      Shipped                     USPS(0001)   $14.99           $0.00   \n",
       "\n",
       "  Tax Before Promotions Total Promotions Tax Charged Total Charged Buyer Name  \\\n",
       "0                 $1.93            $0.00       $1.93        $36.93  Your Name   \n",
       "1                 $0.00            $0.00       $0.00        $16.99  Your Name   \n",
       "2                 $0.00            $0.00       $0.00         $9.99  Your Name   \n",
       "3                 $8.14            $0.00       $8.14       $156.12  Your Name   \n",
       "4                 $0.00            $0.00       $0.00        $14.99  Your Name   \n",
       "\n",
       "  Group Name  \n",
       "0        NaN  \n",
       "1        NaN  \n",
       "2        NaN  \n",
       "3        NaN  \n",
       "4        NaN  \n",
       "\n",
       "[5 rows x 23 columns]"
      ]
     },
     "execution_count": 76,
     "metadata": {},
     "output_type": "execute_result"
    }
   ],
   "source": [
    "amazon.head(5)"
   ]
  },
  {
   "cell_type": "markdown",
   "metadata": {},
   "source": [
    "* To get a readout of the full size of our data set, we use df.shape. This gives us the dimensions of our DataFrame. It reveals that our DataFrame has 59 rows and 23 columns."
   ]
  },
  {
   "cell_type": "code",
   "execution_count": 77,
   "metadata": {},
   "outputs": [
    {
     "data": {
      "text/plain": [
       "(59, 23)"
      ]
     },
     "execution_count": 77,
     "metadata": {},
     "output_type": "execute_result"
    }
   ],
   "source": [
    "amazon.shape"
   ]
  },
  {
   "cell_type": "code",
   "execution_count": 78,
   "metadata": {},
   "outputs": [],
   "source": [
    "amazon = amazon.fillna(0)"
   ]
  },
  {
   "cell_type": "code",
   "execution_count": 79,
   "metadata": {},
   "outputs": [
    {
     "name": "stdout",
     "output_type": "stream",
     "text": [
      "<class 'str'>\n"
     ]
    }
   ],
   "source": [
    "amazon.head(2)\n",
    "print(type('Total Charged'))"
   ]
  },
  {
   "cell_type": "code",
   "execution_count": 80,
   "metadata": {},
   "outputs": [],
   "source": [
    "amazon['Total Charged'] = amazon['Total Charged'].str.replace('$', '').astype(float)"
   ]
  },
  {
   "cell_type": "code",
   "execution_count": 81,
   "metadata": {},
   "outputs": [
    {
     "data": {
      "text/html": [
       "<div>\n",
       "<style scoped>\n",
       "    .dataframe tbody tr th:only-of-type {\n",
       "        vertical-align: middle;\n",
       "    }\n",
       "\n",
       "    .dataframe tbody tr th {\n",
       "        vertical-align: top;\n",
       "    }\n",
       "\n",
       "    .dataframe thead th {\n",
       "        text-align: right;\n",
       "    }\n",
       "</style>\n",
       "<table border=\"1\" class=\"dataframe\">\n",
       "  <thead>\n",
       "    <tr style=\"text-align: right;\">\n",
       "      <th></th>\n",
       "      <th>Order Date</th>\n",
       "      <th>Order ID</th>\n",
       "      <th>Payment Instrument Type</th>\n",
       "      <th>Website</th>\n",
       "      <th>Purchase Order Number</th>\n",
       "      <th>Ordering Customer Email</th>\n",
       "      <th>Shipment Date</th>\n",
       "      <th>Shipping Address Name</th>\n",
       "      <th>Shipping Address Street 1</th>\n",
       "      <th>Shipping Address Street 2</th>\n",
       "      <th>...</th>\n",
       "      <th>Order Status</th>\n",
       "      <th>Carrier Name &amp; Tracking Number</th>\n",
       "      <th>Subtotal</th>\n",
       "      <th>Shipping Charge</th>\n",
       "      <th>Tax Before Promotions</th>\n",
       "      <th>Total Promotions</th>\n",
       "      <th>Tax Charged</th>\n",
       "      <th>Total Charged</th>\n",
       "      <th>Buyer Name</th>\n",
       "      <th>Group Name</th>\n",
       "    </tr>\n",
       "  </thead>\n",
       "  <tbody>\n",
       "    <tr>\n",
       "      <th>0</th>\n",
       "      <td>04/01/19</td>\n",
       "      <td>112-0000000-0000001</td>\n",
       "      <td>Visa - 0001</td>\n",
       "      <td>Amazon.com</td>\n",
       "      <td>0.0</td>\n",
       "      <td>your_email@gmail.com</td>\n",
       "      <td>04/01/19</td>\n",
       "      <td>Your Name</td>\n",
       "      <td>1 YOUR STREET</td>\n",
       "      <td>0.0</td>\n",
       "      <td>...</td>\n",
       "      <td>Shipped</td>\n",
       "      <td>USPS(0001)</td>\n",
       "      <td>$35.00</td>\n",
       "      <td>$0.00</td>\n",
       "      <td>$1.93</td>\n",
       "      <td>$0.00</td>\n",
       "      <td>$1.93</td>\n",
       "      <td>36.93</td>\n",
       "      <td>Your Name</td>\n",
       "      <td>0.0</td>\n",
       "    </tr>\n",
       "    <tr>\n",
       "      <th>1</th>\n",
       "      <td>04/01/19</td>\n",
       "      <td>112-0000000-0000002</td>\n",
       "      <td>Visa - 0001</td>\n",
       "      <td>Amazon.com</td>\n",
       "      <td>0.0</td>\n",
       "      <td>your_email@gmail.com</td>\n",
       "      <td>04/01/19</td>\n",
       "      <td>Your Name</td>\n",
       "      <td>1 YOUR STREET</td>\n",
       "      <td>0.0</td>\n",
       "      <td>...</td>\n",
       "      <td>Shipped</td>\n",
       "      <td>USPS(0001)</td>\n",
       "      <td>$16.99</td>\n",
       "      <td>$0.00</td>\n",
       "      <td>$0.00</td>\n",
       "      <td>$0.00</td>\n",
       "      <td>$0.00</td>\n",
       "      <td>16.99</td>\n",
       "      <td>Your Name</td>\n",
       "      <td>0.0</td>\n",
       "    </tr>\n",
       "    <tr>\n",
       "      <th>2</th>\n",
       "      <td>04/01/19</td>\n",
       "      <td>112-0000000-0000003</td>\n",
       "      <td>Visa - 0001</td>\n",
       "      <td>Amazon.com</td>\n",
       "      <td>0.0</td>\n",
       "      <td>your_email@gmail.com</td>\n",
       "      <td>04/01/19</td>\n",
       "      <td>Your Name</td>\n",
       "      <td>1 YOUR STREET</td>\n",
       "      <td>0.0</td>\n",
       "      <td>...</td>\n",
       "      <td>Shipped</td>\n",
       "      <td>USPS(0001)</td>\n",
       "      <td>$9.99</td>\n",
       "      <td>$0.00</td>\n",
       "      <td>$0.00</td>\n",
       "      <td>$0.00</td>\n",
       "      <td>$0.00</td>\n",
       "      <td>9.99</td>\n",
       "      <td>Your Name</td>\n",
       "      <td>0.0</td>\n",
       "    </tr>\n",
       "  </tbody>\n",
       "</table>\n",
       "<p>3 rows × 23 columns</p>\n",
       "</div>"
      ],
      "text/plain": [
       "  Order Date             Order ID Payment Instrument Type     Website  \\\n",
       "0   04/01/19  112-0000000-0000001             Visa - 0001  Amazon.com   \n",
       "1   04/01/19  112-0000000-0000002             Visa - 0001  Amazon.com   \n",
       "2   04/01/19  112-0000000-0000003             Visa - 0001  Amazon.com   \n",
       "\n",
       "   Purchase Order Number Ordering Customer Email Shipment Date  \\\n",
       "0                    0.0    your_email@gmail.com      04/01/19   \n",
       "1                    0.0    your_email@gmail.com      04/01/19   \n",
       "2                    0.0    your_email@gmail.com      04/01/19   \n",
       "\n",
       "  Shipping Address Name Shipping Address Street 1  Shipping Address Street 2  \\\n",
       "0             Your Name             1 YOUR STREET                        0.0   \n",
       "1             Your Name             1 YOUR STREET                        0.0   \n",
       "2             Your Name             1 YOUR STREET                        0.0   \n",
       "\n",
       "   ... Order Status Carrier Name & Tracking Number Subtotal Shipping Charge  \\\n",
       "0  ...      Shipped                     USPS(0001)   $35.00           $0.00   \n",
       "1  ...      Shipped                     USPS(0001)   $16.99           $0.00   \n",
       "2  ...      Shipped                     USPS(0001)    $9.99           $0.00   \n",
       "\n",
       "  Tax Before Promotions Total Promotions Tax Charged Total Charged Buyer Name  \\\n",
       "0                 $1.93            $0.00       $1.93         36.93  Your Name   \n",
       "1                 $0.00            $0.00       $0.00         16.99  Your Name   \n",
       "2                 $0.00            $0.00       $0.00          9.99  Your Name   \n",
       "\n",
       "  Group Name  \n",
       "0        0.0  \n",
       "1        0.0  \n",
       "2        0.0  \n",
       "\n",
       "[3 rows x 23 columns]"
      ]
     },
     "execution_count": 81,
     "metadata": {},
     "output_type": "execute_result"
    }
   ],
   "source": [
    "amazon.head(3)"
   ]
  },
  {
   "cell_type": "markdown",
   "metadata": {},
   "source": [
    "# Calculating the Total Amount of Money Spent on Amazon\n",
    "Pandas includes some basic math functions that we can use on this column. Let’s start with .sum(), which will give us the total of every number in this column — in other words, the total we’ve spent on Amazon."
   ]
  },
  {
   "cell_type": "code",
   "execution_count": 82,
   "metadata": {},
   "outputs": [
    {
     "data": {
      "text/plain": [
       "1777.7300000000002"
      ]
     },
     "execution_count": 82,
     "metadata": {},
     "output_type": "execute_result"
    }
   ],
   "source": [
    "total_spent = amazon['Total Charged'].sum()\n",
    "total_spent"
   ]
  },
  {
   "cell_type": "markdown",
   "metadata": {},
   "source": [
    "The total money spent on Amazon is 1,777.73. Next we calculate average spent, highest purchase etc.\n",
    "\n",
    "# Average Spend on Amazon, Biggest Purchase, Etc."
   ]
  },
  {
   "cell_type": "code",
   "execution_count": 83,
   "metadata": {},
   "outputs": [
    {
     "data": {
      "text/plain": [
       "30.131016949152542"
      ]
     },
     "execution_count": 83,
     "metadata": {},
     "output_type": "execute_result"
    }
   ],
   "source": [
    "average_spent = amazon['Total Charged'].mean()\n",
    "average_spent"
   ]
  },
  {
   "cell_type": "markdown",
   "metadata": {},
   "source": [
    "This shows that I spent $30.13 on average for every purchase on Amazon during the time period. Since looking at the mean/average can sometimes hide outliers, it’s nice to check out the median as well. I used .median() to do that."
   ]
  },
  {
   "cell_type": "code",
   "execution_count": 84,
   "metadata": {},
   "outputs": [
    {
     "data": {
      "text/plain": [
       "15.95"
      ]
     },
     "execution_count": 84,
     "metadata": {},
     "output_type": "execute_result"
    }
   ],
   "source": [
    "median_spent = amazon['Total Charged'].median()\n",
    "median_spent"
   ]
  },
  {
   "cell_type": "markdown",
   "metadata": {},
   "source": [
    "Which shows my median spend is quite a bit lower than my average spend. Looks like I made few expensive orders. Let’s see what the highest-priced order was by using max():"
   ]
  },
  {
   "cell_type": "code",
   "execution_count": 85,
   "metadata": {},
   "outputs": [
    {
     "data": {
      "text/plain": [
       "210.99"
      ]
     },
     "execution_count": 85,
     "metadata": {},
     "output_type": "execute_result"
    }
   ],
   "source": [
    "maximum_spent = amazon['Total Charged'].max()\n",
    "maximum_spent"
   ]
  },
  {
   "cell_type": "code",
   "execution_count": 86,
   "metadata": {},
   "outputs": [
    {
     "data": {
      "text/plain": [
       "1.04"
      ]
     },
     "execution_count": 86,
     "metadata": {},
     "output_type": "execute_result"
    }
   ],
   "source": [
    "minimum_spent = amazon['Total Charged'].min()\n",
    "minimum_spent"
   ]
  },
  {
   "cell_type": "markdown",
   "metadata": {},
   "source": [
    "My priciest order was 211 and my lowest-priced order was 1.04 using .min()\n",
    "\n",
    "# How Much Have I Paid in Sales Tax?"
   ]
  },
  {
   "cell_type": "code",
   "execution_count": 87,
   "metadata": {},
   "outputs": [],
   "source": [
    "amazon['Tax Charged'] = amazon['Tax Charged'].str.replace('$', '').astype(float)"
   ]
  },
  {
   "cell_type": "code",
   "execution_count": 88,
   "metadata": {},
   "outputs": [
    {
     "data": {
      "text/html": [
       "<div>\n",
       "<style scoped>\n",
       "    .dataframe tbody tr th:only-of-type {\n",
       "        vertical-align: middle;\n",
       "    }\n",
       "\n",
       "    .dataframe tbody tr th {\n",
       "        vertical-align: top;\n",
       "    }\n",
       "\n",
       "    .dataframe thead th {\n",
       "        text-align: right;\n",
       "    }\n",
       "</style>\n",
       "<table border=\"1\" class=\"dataframe\">\n",
       "  <thead>\n",
       "    <tr style=\"text-align: right;\">\n",
       "      <th></th>\n",
       "      <th>Order Date</th>\n",
       "      <th>Order ID</th>\n",
       "      <th>Payment Instrument Type</th>\n",
       "      <th>Website</th>\n",
       "      <th>Purchase Order Number</th>\n",
       "      <th>Ordering Customer Email</th>\n",
       "      <th>Shipment Date</th>\n",
       "      <th>Shipping Address Name</th>\n",
       "      <th>Shipping Address Street 1</th>\n",
       "      <th>Shipping Address Street 2</th>\n",
       "      <th>...</th>\n",
       "      <th>Order Status</th>\n",
       "      <th>Carrier Name &amp; Tracking Number</th>\n",
       "      <th>Subtotal</th>\n",
       "      <th>Shipping Charge</th>\n",
       "      <th>Tax Before Promotions</th>\n",
       "      <th>Total Promotions</th>\n",
       "      <th>Tax Charged</th>\n",
       "      <th>Total Charged</th>\n",
       "      <th>Buyer Name</th>\n",
       "      <th>Group Name</th>\n",
       "    </tr>\n",
       "  </thead>\n",
       "  <tbody>\n",
       "    <tr>\n",
       "      <th>0</th>\n",
       "      <td>04/01/19</td>\n",
       "      <td>112-0000000-0000001</td>\n",
       "      <td>Visa - 0001</td>\n",
       "      <td>Amazon.com</td>\n",
       "      <td>0.0</td>\n",
       "      <td>your_email@gmail.com</td>\n",
       "      <td>04/01/19</td>\n",
       "      <td>Your Name</td>\n",
       "      <td>1 YOUR STREET</td>\n",
       "      <td>0.0</td>\n",
       "      <td>...</td>\n",
       "      <td>Shipped</td>\n",
       "      <td>USPS(0001)</td>\n",
       "      <td>$35.00</td>\n",
       "      <td>$0.00</td>\n",
       "      <td>$1.93</td>\n",
       "      <td>$0.00</td>\n",
       "      <td>1.93</td>\n",
       "      <td>36.93</td>\n",
       "      <td>Your Name</td>\n",
       "      <td>0.0</td>\n",
       "    </tr>\n",
       "    <tr>\n",
       "      <th>1</th>\n",
       "      <td>04/01/19</td>\n",
       "      <td>112-0000000-0000002</td>\n",
       "      <td>Visa - 0001</td>\n",
       "      <td>Amazon.com</td>\n",
       "      <td>0.0</td>\n",
       "      <td>your_email@gmail.com</td>\n",
       "      <td>04/01/19</td>\n",
       "      <td>Your Name</td>\n",
       "      <td>1 YOUR STREET</td>\n",
       "      <td>0.0</td>\n",
       "      <td>...</td>\n",
       "      <td>Shipped</td>\n",
       "      <td>USPS(0001)</td>\n",
       "      <td>$16.99</td>\n",
       "      <td>$0.00</td>\n",
       "      <td>$0.00</td>\n",
       "      <td>$0.00</td>\n",
       "      <td>0.00</td>\n",
       "      <td>16.99</td>\n",
       "      <td>Your Name</td>\n",
       "      <td>0.0</td>\n",
       "    </tr>\n",
       "    <tr>\n",
       "      <th>2</th>\n",
       "      <td>04/01/19</td>\n",
       "      <td>112-0000000-0000003</td>\n",
       "      <td>Visa - 0001</td>\n",
       "      <td>Amazon.com</td>\n",
       "      <td>0.0</td>\n",
       "      <td>your_email@gmail.com</td>\n",
       "      <td>04/01/19</td>\n",
       "      <td>Your Name</td>\n",
       "      <td>1 YOUR STREET</td>\n",
       "      <td>0.0</td>\n",
       "      <td>...</td>\n",
       "      <td>Shipped</td>\n",
       "      <td>USPS(0001)</td>\n",
       "      <td>$9.99</td>\n",
       "      <td>$0.00</td>\n",
       "      <td>$0.00</td>\n",
       "      <td>$0.00</td>\n",
       "      <td>0.00</td>\n",
       "      <td>9.99</td>\n",
       "      <td>Your Name</td>\n",
       "      <td>0.0</td>\n",
       "    </tr>\n",
       "    <tr>\n",
       "      <th>3</th>\n",
       "      <td>04/04/19</td>\n",
       "      <td>112-0000000-0000004</td>\n",
       "      <td>Visa - 0001</td>\n",
       "      <td>Amazon.com</td>\n",
       "      <td>0.0</td>\n",
       "      <td>your_email@gmail.com</td>\n",
       "      <td>04/05/19</td>\n",
       "      <td>Your Name</td>\n",
       "      <td>1 YOUR STREET</td>\n",
       "      <td>0.0</td>\n",
       "      <td>...</td>\n",
       "      <td>Shipped</td>\n",
       "      <td>UPS(0002)</td>\n",
       "      <td>$147.98</td>\n",
       "      <td>$0.00</td>\n",
       "      <td>$8.14</td>\n",
       "      <td>$0.00</td>\n",
       "      <td>8.14</td>\n",
       "      <td>156.12</td>\n",
       "      <td>Your Name</td>\n",
       "      <td>0.0</td>\n",
       "    </tr>\n",
       "    <tr>\n",
       "      <th>4</th>\n",
       "      <td>04/05/19</td>\n",
       "      <td>112-0000000-0000005</td>\n",
       "      <td>Visa - 0001</td>\n",
       "      <td>Amazon.com</td>\n",
       "      <td>0.0</td>\n",
       "      <td>your_email@gmail.com</td>\n",
       "      <td>04/07/19</td>\n",
       "      <td>Your Name</td>\n",
       "      <td>1 YOUR STREET</td>\n",
       "      <td>0.0</td>\n",
       "      <td>...</td>\n",
       "      <td>Shipped</td>\n",
       "      <td>USPS(0001)</td>\n",
       "      <td>$14.99</td>\n",
       "      <td>$0.00</td>\n",
       "      <td>$0.00</td>\n",
       "      <td>$0.00</td>\n",
       "      <td>0.00</td>\n",
       "      <td>14.99</td>\n",
       "      <td>Your Name</td>\n",
       "      <td>0.0</td>\n",
       "    </tr>\n",
       "  </tbody>\n",
       "</table>\n",
       "<p>5 rows × 23 columns</p>\n",
       "</div>"
      ],
      "text/plain": [
       "  Order Date             Order ID Payment Instrument Type     Website  \\\n",
       "0   04/01/19  112-0000000-0000001             Visa - 0001  Amazon.com   \n",
       "1   04/01/19  112-0000000-0000002             Visa - 0001  Amazon.com   \n",
       "2   04/01/19  112-0000000-0000003             Visa - 0001  Amazon.com   \n",
       "3   04/04/19  112-0000000-0000004             Visa - 0001  Amazon.com   \n",
       "4   04/05/19  112-0000000-0000005             Visa - 0001  Amazon.com   \n",
       "\n",
       "   Purchase Order Number Ordering Customer Email Shipment Date  \\\n",
       "0                    0.0    your_email@gmail.com      04/01/19   \n",
       "1                    0.0    your_email@gmail.com      04/01/19   \n",
       "2                    0.0    your_email@gmail.com      04/01/19   \n",
       "3                    0.0    your_email@gmail.com      04/05/19   \n",
       "4                    0.0    your_email@gmail.com      04/07/19   \n",
       "\n",
       "  Shipping Address Name Shipping Address Street 1  Shipping Address Street 2  \\\n",
       "0             Your Name             1 YOUR STREET                        0.0   \n",
       "1             Your Name             1 YOUR STREET                        0.0   \n",
       "2             Your Name             1 YOUR STREET                        0.0   \n",
       "3             Your Name             1 YOUR STREET                        0.0   \n",
       "4             Your Name             1 YOUR STREET                        0.0   \n",
       "\n",
       "   ... Order Status Carrier Name & Tracking Number Subtotal Shipping Charge  \\\n",
       "0  ...      Shipped                     USPS(0001)   $35.00           $0.00   \n",
       "1  ...      Shipped                     USPS(0001)   $16.99           $0.00   \n",
       "2  ...      Shipped                     USPS(0001)    $9.99           $0.00   \n",
       "3  ...      Shipped                      UPS(0002)  $147.98           $0.00   \n",
       "4  ...      Shipped                     USPS(0001)   $14.99           $0.00   \n",
       "\n",
       "  Tax Before Promotions Total Promotions Tax Charged Total Charged Buyer Name  \\\n",
       "0                 $1.93            $0.00        1.93         36.93  Your Name   \n",
       "1                 $0.00            $0.00        0.00         16.99  Your Name   \n",
       "2                 $0.00            $0.00        0.00          9.99  Your Name   \n",
       "3                 $8.14            $0.00        8.14        156.12  Your Name   \n",
       "4                 $0.00            $0.00        0.00         14.99  Your Name   \n",
       "\n",
       "   Group Name  \n",
       "0         0.0  \n",
       "1         0.0  \n",
       "2         0.0  \n",
       "3         0.0  \n",
       "4         0.0  \n",
       "\n",
       "[5 rows x 23 columns]"
      ]
     },
     "execution_count": 88,
     "metadata": {},
     "output_type": "execute_result"
    }
   ],
   "source": [
    "amazon.head(5)"
   ]
  },
  {
   "cell_type": "code",
   "execution_count": 89,
   "metadata": {},
   "outputs": [
    {
     "data": {
      "text/plain": [
       "52.60999999999999"
      ]
     },
     "execution_count": 89,
     "metadata": {},
     "output_type": "execute_result"
    }
   ],
   "source": [
    "total_taxed = amazon['Tax Charged'].sum()\n",
    "total_taxed"
   ]
  },
  {
   "cell_type": "markdown",
   "metadata": {},
   "source": [
    "I paid tax of about $52.61 total in total. To find the tax rate, I divide the total tax paid by total sum of purchse  "
   ]
  },
  {
   "cell_type": "code",
   "execution_count": 90,
   "metadata": {},
   "outputs": [
    {
     "data": {
      "text/plain": [
       "0.02959392033660904"
      ]
     },
     "execution_count": 90,
     "metadata": {},
     "output_type": "execute_result"
    }
   ],
   "source": [
    "total_taxed/total_spent"
   ]
  },
  {
   "cell_type": "markdown",
   "metadata": {},
   "source": [
    "During this time period, I paid an overall effective sales tax rate of about 2.9%.\n",
    "\n",
    "# Analyzing Amazon Spending Over Time"
   ]
  },
  {
   "cell_type": "code",
   "execution_count": 91,
   "metadata": {},
   "outputs": [],
   "source": [
    "amazon['Order Date'] = pd.to_datetime(amazon['Order Date'])"
   ]
  },
  {
   "cell_type": "code",
   "execution_count": 92,
   "metadata": {},
   "outputs": [
    {
     "data": {
      "text/html": [
       "<div>\n",
       "<style scoped>\n",
       "    .dataframe tbody tr th:only-of-type {\n",
       "        vertical-align: middle;\n",
       "    }\n",
       "\n",
       "    .dataframe tbody tr th {\n",
       "        vertical-align: top;\n",
       "    }\n",
       "\n",
       "    .dataframe thead th {\n",
       "        text-align: right;\n",
       "    }\n",
       "</style>\n",
       "<table border=\"1\" class=\"dataframe\">\n",
       "  <thead>\n",
       "    <tr style=\"text-align: right;\">\n",
       "      <th></th>\n",
       "      <th>Order Date</th>\n",
       "      <th>Order ID</th>\n",
       "      <th>Payment Instrument Type</th>\n",
       "      <th>Website</th>\n",
       "      <th>Purchase Order Number</th>\n",
       "      <th>Ordering Customer Email</th>\n",
       "      <th>Shipment Date</th>\n",
       "      <th>Shipping Address Name</th>\n",
       "      <th>Shipping Address Street 1</th>\n",
       "      <th>Shipping Address Street 2</th>\n",
       "      <th>...</th>\n",
       "      <th>Order Status</th>\n",
       "      <th>Carrier Name &amp; Tracking Number</th>\n",
       "      <th>Subtotal</th>\n",
       "      <th>Shipping Charge</th>\n",
       "      <th>Tax Before Promotions</th>\n",
       "      <th>Total Promotions</th>\n",
       "      <th>Tax Charged</th>\n",
       "      <th>Total Charged</th>\n",
       "      <th>Buyer Name</th>\n",
       "      <th>Group Name</th>\n",
       "    </tr>\n",
       "  </thead>\n",
       "  <tbody>\n",
       "    <tr>\n",
       "      <th>0</th>\n",
       "      <td>2019-04-01</td>\n",
       "      <td>112-0000000-0000001</td>\n",
       "      <td>Visa - 0001</td>\n",
       "      <td>Amazon.com</td>\n",
       "      <td>0.0</td>\n",
       "      <td>your_email@gmail.com</td>\n",
       "      <td>04/01/19</td>\n",
       "      <td>Your Name</td>\n",
       "      <td>1 YOUR STREET</td>\n",
       "      <td>0.0</td>\n",
       "      <td>...</td>\n",
       "      <td>Shipped</td>\n",
       "      <td>USPS(0001)</td>\n",
       "      <td>$35.00</td>\n",
       "      <td>$0.00</td>\n",
       "      <td>$1.93</td>\n",
       "      <td>$0.00</td>\n",
       "      <td>1.93</td>\n",
       "      <td>36.93</td>\n",
       "      <td>Your Name</td>\n",
       "      <td>0.0</td>\n",
       "    </tr>\n",
       "    <tr>\n",
       "      <th>1</th>\n",
       "      <td>2019-04-01</td>\n",
       "      <td>112-0000000-0000002</td>\n",
       "      <td>Visa - 0001</td>\n",
       "      <td>Amazon.com</td>\n",
       "      <td>0.0</td>\n",
       "      <td>your_email@gmail.com</td>\n",
       "      <td>04/01/19</td>\n",
       "      <td>Your Name</td>\n",
       "      <td>1 YOUR STREET</td>\n",
       "      <td>0.0</td>\n",
       "      <td>...</td>\n",
       "      <td>Shipped</td>\n",
       "      <td>USPS(0001)</td>\n",
       "      <td>$16.99</td>\n",
       "      <td>$0.00</td>\n",
       "      <td>$0.00</td>\n",
       "      <td>$0.00</td>\n",
       "      <td>0.00</td>\n",
       "      <td>16.99</td>\n",
       "      <td>Your Name</td>\n",
       "      <td>0.0</td>\n",
       "    </tr>\n",
       "    <tr>\n",
       "      <th>2</th>\n",
       "      <td>2019-04-01</td>\n",
       "      <td>112-0000000-0000003</td>\n",
       "      <td>Visa - 0001</td>\n",
       "      <td>Amazon.com</td>\n",
       "      <td>0.0</td>\n",
       "      <td>your_email@gmail.com</td>\n",
       "      <td>04/01/19</td>\n",
       "      <td>Your Name</td>\n",
       "      <td>1 YOUR STREET</td>\n",
       "      <td>0.0</td>\n",
       "      <td>...</td>\n",
       "      <td>Shipped</td>\n",
       "      <td>USPS(0001)</td>\n",
       "      <td>$9.99</td>\n",
       "      <td>$0.00</td>\n",
       "      <td>$0.00</td>\n",
       "      <td>$0.00</td>\n",
       "      <td>0.00</td>\n",
       "      <td>9.99</td>\n",
       "      <td>Your Name</td>\n",
       "      <td>0.0</td>\n",
       "    </tr>\n",
       "  </tbody>\n",
       "</table>\n",
       "<p>3 rows × 23 columns</p>\n",
       "</div>"
      ],
      "text/plain": [
       "  Order Date             Order ID Payment Instrument Type     Website  \\\n",
       "0 2019-04-01  112-0000000-0000001             Visa - 0001  Amazon.com   \n",
       "1 2019-04-01  112-0000000-0000002             Visa - 0001  Amazon.com   \n",
       "2 2019-04-01  112-0000000-0000003             Visa - 0001  Amazon.com   \n",
       "\n",
       "   Purchase Order Number Ordering Customer Email Shipment Date  \\\n",
       "0                    0.0    your_email@gmail.com      04/01/19   \n",
       "1                    0.0    your_email@gmail.com      04/01/19   \n",
       "2                    0.0    your_email@gmail.com      04/01/19   \n",
       "\n",
       "  Shipping Address Name Shipping Address Street 1  Shipping Address Street 2  \\\n",
       "0             Your Name             1 YOUR STREET                        0.0   \n",
       "1             Your Name             1 YOUR STREET                        0.0   \n",
       "2             Your Name             1 YOUR STREET                        0.0   \n",
       "\n",
       "   ... Order Status Carrier Name & Tracking Number Subtotal Shipping Charge  \\\n",
       "0  ...      Shipped                     USPS(0001)   $35.00           $0.00   \n",
       "1  ...      Shipped                     USPS(0001)   $16.99           $0.00   \n",
       "2  ...      Shipped                     USPS(0001)    $9.99           $0.00   \n",
       "\n",
       "  Tax Before Promotions Total Promotions Tax Charged Total Charged Buyer Name  \\\n",
       "0                 $1.93            $0.00        1.93         36.93  Your Name   \n",
       "1                 $0.00            $0.00        0.00         16.99  Your Name   \n",
       "2                 $0.00            $0.00        0.00          9.99  Your Name   \n",
       "\n",
       "   Group Name  \n",
       "0         0.0  \n",
       "1         0.0  \n",
       "2         0.0  \n",
       "\n",
       "[3 rows x 23 columns]"
      ]
     },
     "execution_count": 92,
     "metadata": {},
     "output_type": "execute_result"
    }
   ],
   "source": [
    "amazon.head(3)"
   ]
  },
  {
   "cell_type": "markdown",
   "metadata": {},
   "source": [
    " From the three rows, we can see that the date formatting has changed from 2019/04/01 to 2019-04-01. That’s a good sign that our change to datetime has worked, and we can proceed to the next step of our analysis.\n",
    "\n",
    "One thing that might be interesting to look at is how much was spent on each particular day in this data set. That’s an analysis that would be easiest to look at visually, perhaps in the form of a bar graph."
   ]
  },
  {
   "cell_type": "code",
   "execution_count": 99,
   "metadata": {},
   "outputs": [],
   "source": [
    "%matplotlib inline"
   ]
  },
  {
   "cell_type": "code",
   "execution_count": 94,
   "metadata": {},
   "outputs": [
    {
     "data": {
      "text/plain": [
       "<matplotlib.axes._subplots.AxesSubplot at 0x2a828d68da0>"
      ]
     },
     "execution_count": 94,
     "metadata": {},
     "output_type": "execute_result"
    },
    {
     "data": {
      "image/png": "[encoded data removed]",
      "text/plain": [
       "<Figure size 432x288 with 1 Axes>"
      ]
     },
     "metadata": {
      "needs_background": "light"
     },
     "output_type": "display_data"
    }
   ],
   "source": [
    "amazon.plot.bar(x='Order Date', y='Total Charged', rot=90)"
   ]
  },
  {
   "cell_type": "markdown",
   "metadata": {},
   "source": [
    "That chart is a little small, and it’s hard to see whether we’ve really gotten what we want. We will enlarge it so that we can read the data more easily.\n",
    "\n",
    "We can do that by adding an argument to our plotting code called figsize. This allows us to define the size of the graph (fig is short for figure) by width and height. The units it uses aren’t particularly intuitive, but (20, 10) is a good default to start from for most charts, and then we can adjust further if needed.\n",
    "\n",
    "All we need to do is add figsize=(20,10) to the arguments we already have in our code. Note that each separate argument is separated with a comma."
   ]
  },
  {
   "cell_type": "code",
   "execution_count": 98,
   "metadata": {},
   "outputs": [
    {
     "data": {
      "text/plain": [
       "<matplotlib.axes._subplots.AxesSubplot at 0x2a82a947e48>"
      ]
     },
     "execution_count": 98,
     "metadata": {},
     "output_type": "execute_result"
    },
    {
     "data": {
      "image/png": "[encoded data removed]",
      "text/plain": [
       "<Figure size 1440x720 with 1 Axes>"
      ]
     },
     "metadata": {
      "needs_background": "light"
     },
     "output_type": "display_data"
    }
   ],
   "source": [
    "amazon.plot.bar(x='Order Date', y='Total Charged', rot=90, figsize=(20, 10))"
   ]
  },
  {
   "cell_type": "markdown",
   "metadata": {},
   "source": [
    "With multiple orders placed on the same day, each order is getting a separate bar in the bar chart. This is a problem we have to solve. For example, at the first three bars on the chart — all three of them are for April 1, representing three separate orders placed that day.\n",
    "\n",
    "That’s not really what we were trying to visualize. We want to see how much was spent each day. Each bar should represent a day, not a single order, so if there was more than one order on that day, the totals charged for those orders should be added together. This can be achieved using another built-in pandas function: df.groupby().\n",
    "\n",
    "The syntax for this is a little bit complex, but we can break what we want to do down into two parts: 1. We want to group our data by 'Order Date', so that all the orders that share the same date are counted in a single row (i.e., we want one row for April 1, rather than three). 2. We want to get the sum of the prices paid in 'Total Charged' column for each date and make it the value for 'Total Charged' in the relevant date’s row (i.e., we want the value of 'Total Charged' in the April 1 row to be the sum total of the three orders placed that day)."
   ]
  },
  {
   "cell_type": "code",
   "execution_count": 96,
   "metadata": {},
   "outputs": [
    {
     "data": {
      "text/plain": [
       "Order Date\n",
       "2019-04-01     63.91\n",
       "2019-04-04    156.12\n",
       "2019-04-05     27.64\n",
       "2019-04-07     40.63\n",
       "2019-04-08     44.99\n",
       "Name: Total Charged, dtype: float64"
      ]
     },
     "execution_count": 96,
     "metadata": {},
     "output_type": "execute_result"
    }
   ],
   "source": [
    "daily_order = amazon.groupby('Order Date').sum()['Total Charged']\n",
    "daily_order.head()"
   ]
  },
  {
   "cell_type": "code",
   "execution_count": 97,
   "metadata": {},
   "outputs": [
    {
     "data": {
      "text/plain": [
       "<matplotlib.axes._subplots.AxesSubplot at 0x2a82ad18940>"
      ]
     },
     "execution_count": 97,
     "metadata": {},
     "output_type": "execute_result"
    },
    {
     "data": {
      "image/png": "[encoded data removed]",
      "text/plain": [
       "<Figure size 1440x720 with 1 Axes>"
      ]
     },
     "metadata": {
      "needs_background": "light"
     },
     "output_type": "display_data"
    }
   ],
   "source": [
    "daily_order.plot.bar(figsize=(20, 10))"
   ]
  },
  {
   "cell_type": "code",
   "execution_count": 100,
   "metadata": {
    "scrolled": true
   },
   "outputs": [
    {
     "data": {
      "text/plain": [
       "<matplotlib.axes._subplots.AxesSubplot at 0x2a82ab6a6a0>"
      ]
     },
     "execution_count": 100,
     "metadata": {},
     "output_type": "execute_result"
    },
    {
     "data": {
      "image/png": "[encoded data removed]",
      "text/plain": [
       "<Figure size 1440x720 with 1 Axes>"
      ]
     },
     "metadata": {
      "needs_background": "light"
     },
     "output_type": "display_data"
    }
   ],
   "source": [
    "daily_order.plot.bar(figsize=(20, 10), color='green')"
   ]
  },
  {
   "cell_type": "code",
   "execution_count": null,
   "metadata": {},
   "outputs": [],
   "source": []
  }
 ],
 "metadata": {
  "kernelspec": {
   "display_name": "Python 3",
   "language": "python",
   "name": "python3"
  },
  "language_info": {
   "codemirror_mode": {
    "name": "ipython",
    "version": 3
   },
   "file_extension": ".py",
   "mimetype": "text/x-python",
   "name": "python",
   "nbconvert_exporter": "python",
   "pygments_lexer": "ipython3",
   "version": "3.7.3"
  }
 },
 "nbformat": 4,
 "nbformat_minor": 2
}
